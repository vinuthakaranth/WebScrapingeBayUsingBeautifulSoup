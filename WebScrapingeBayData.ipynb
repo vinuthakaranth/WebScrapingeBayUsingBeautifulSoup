{
 "cells": [
  {
   "cell_type": "code",
   "execution_count": 1,
   "metadata": {
    "collapsed": true
   },
   "outputs": [],
   "source": [
    "#import relevant libraries\n",
    "import wordcloud\n",
    "import matplotlib\n",
    "import bs4\n",
    "import csv\n",
    "import pandas\n",
    "import numpy as np\n",
    "from collections import Counter\n",
    "from urllib.request import urlopen as uReq\n",
    "from bs4 import BeautifulSoup as soup\n",
    "from matplotlib import pyplot as plt\n",
    "from wordcloud import WordCloud\n",
    "from PIL import Image"
   ]
  },
  {
   "cell_type": "code",
   "execution_count": 8,
   "metadata": {},
   "outputs": [],
   "source": [
    "#open connection, grab page\n",
    "my_url = 'https://www.ebay.com/sch/i.html?_from=R40&_trksid=p2380057.m570.l1313.TR1.TRC0.A0.H0.Xsport+items.TRS0&_nkw=sport+items&_sacat=0'\n",
    "uClient = uReq(my_url)\n",
    "page_html = uClient.read()\n",
    "uClient.close()"
   ]
  },
  {
   "cell_type": "code",
   "execution_count": 9,
   "metadata": {
    "collapsed": true
   },
   "outputs": [],
   "source": [
    "page_soup = soup(page_html,\"html.parser\")"
   ]
  },
  {
   "cell_type": "code",
   "execution_count": 12,
   "metadata": {},
   "outputs": [
    {
     "data": {
      "text/plain": [
       "<span class=\"relSrc\">Related</span>"
      ]
     },
     "execution_count": 12,
     "metadata": {},
     "output_type": "execute_result"
    }
   ],
   "source": [
    "page_soup.body.span"
   ]
  },
  {
   "cell_type": "code",
   "execution_count": 17,
   "metadata": {
    "collapsed": true
   },
   "outputs": [],
   "source": [
    "containers = page_soup.findAll(\"li\", {\"class\":\"sresult lvresult clearfix li shic\"})"
   ]
  },
  {
   "cell_type": "code",
   "execution_count": 18,
   "metadata": {},
   "outputs": [
    {
     "data": {
      "text/plain": [
       "23"
      ]
     },
     "execution_count": 18,
     "metadata": {},
     "output_type": "execute_result"
    }
   ],
   "source": [
    "len(containers)"
   ]
  },
  {
   "cell_type": "code",
   "execution_count": 19,
   "metadata": {},
   "outputs": [
    {
     "data": {
      "text/plain": [
       "<li _sp=\"p2045573.m1686.l2217\" class=\"sresult lvresult clearfix li shic\" id=\"item2aa402b9b5\" listingid=\"183140268469\" r=\"7\">\n",
       "<div class=\"lvpic pic img left\" iid=\"183140268469\">\n",
       "<div class=\"lvpicinner full-width picW\">\n",
       "<a class=\"img imgWr2\" href=\"https://www.ebay.com/itm/Scorpion-Belt-Buckle-with-Slide-Out-Knife-This-is-a-Very-Unique-item/183140268469?hash=item2aa402b9b5:g:OGYAAOSwjSJae3JI\">\n",
       "<img alt=\"Scorpion Belt Buckle with Slide Out Knife, This is a Very Unique item\" class=\"img\" src=\"https://i.ebayimg.com/thumbs/images/g/OGYAAOSwjSJae3JI/s-l225.jpg\"/>\n",
       "</a>\n",
       "</div></div>\n",
       "<h3 class=\"lvtitle\"><a class=\"vip\" href=\"https://www.ebay.com/itm/Scorpion-Belt-Buckle-with-Slide-Out-Knife-This-is-a-Very-Unique-item/183140268469?hash=item2aa402b9b5:g:OGYAAOSwjSJae3JI\" title=\"Click this link to access Scorpion Belt Buckle with Slide Out Knife, This is a Very Unique item\">Scorpion Belt Buckle with Slide Out Knife, This is a Very Unique item</a>\n",
       "</h3>\n",
       "<div class=\"lvsubtitle\">\n",
       "\t\tNew (Other)</div>\n",
       "<ul _sp=\"p2045573.m1686.l2217\" class=\"lvprices left space-zero\">\n",
       "<li class=\"lvprice prc\">\n",
       "<span class=\"bold\">\n",
       "\t\t\t\t\t$16.99</span>\n",
       "<div class=\"cmpat\">\n",
       "<span aria-hidden=\"true\">\n",
       "\t\t\t\t\t\t\t\t\tWas: </span>\n",
       "<span class=\"acc-offscreen\">Previous Price</span>\n",
       "<span class=\"stk-thr\">$19.99</span>\n",
       "</div>\n",
       "</li>\n",
       "<li class=\"lvformat\">\n",
       "<span>\n",
       "\t\t\t\tBuy It Now</span>\n",
       "</li>\n",
       "<li class=\"lvshipping\">\n",
       "<span class=\"ship\">\n",
       "<span>\n",
       "<span class=\"bfsp\">Free Shipping</span></span>\n",
       "</span></li>\n",
       "<li _sp=\"p2045573.m1686.l2217\" class=\"lvextras\">\n",
       "<div class=\"hotness bold\">\n",
       "<div class=\"hotness-signal red\">\n",
       "\t\t\t\t\t6 Watching</div>\n",
       "<div class=\"hotness-signal black\">\n",
       "\t\t\t\t\t\t15% off</div>\n",
       "</div>\n",
       "</li>\n",
       "</ul><ul class=\"lvdetails left space-zero full-width\">\n",
       "<li>\n",
       "<div class=\"FnF\">\n",
       "<img class=\"fnfimg\" src=\"https://ir.ebaystatic.com/pictures/aw/pics/s.gif\"/>\n",
       "<span class=\"fnftxt\">\n",
       "<span class=\"FnFl fnf-green\">FAST 'N FREE</span>\n",
       "<div>Estimated Delivery <b>Mon, Apr. 9</b></div>\n",
       "</span>\n",
       "</div>\n",
       "</li>\n",
       "</ul></li>"
      ]
     },
     "execution_count": 19,
     "metadata": {},
     "output_type": "execute_result"
    }
   ],
   "source": [
    "containers[1]"
   ]
  },
  {
   "cell_type": "code",
   "execution_count": 35,
   "metadata": {},
   "outputs": [
    {
     "data": {
      "text/plain": [
       "'PSE King Sport Line Grip Convector Neoprene CLEARANCE $ 9.17 item# 24681'"
      ]
     },
     "execution_count": 35,
     "metadata": {},
     "output_type": "execute_result"
    }
   ],
   "source": [
    "container = containers[0]\n",
    "container.h3.a.string"
   ]
  },
  {
   "cell_type": "code",
   "execution_count": 59,
   "metadata": {},
   "outputs": [
    {
     "data": {
      "text/plain": [
       "'Brand New'"
      ]
     },
     "execution_count": 59,
     "metadata": {},
     "output_type": "execute_result"
    }
   ],
   "source": [
    "productStateContainer = container.findAll(\"div\", {\"class\":\"lvsubtitle\"})\n",
    "productStateContainer[0].text.strip()"
   ]
  },
  {
   "cell_type": "code",
   "execution_count": 60,
   "metadata": {},
   "outputs": [
    {
     "data": {
      "text/plain": [
       "'$109.00'"
      ]
     },
     "execution_count": 60,
     "metadata": {},
     "output_type": "execute_result"
    }
   ],
   "source": [
    "productPrice = container.span.text\n",
    "productPrice.strip()"
   ]
  },
  {
   "cell_type": "code",
   "execution_count": 66,
   "metadata": {},
   "outputs": [
    {
     "data": {
      "text/plain": [
       "40"
      ]
     },
     "execution_count": 66,
     "metadata": {},
     "output_type": "execute_result"
    }
   ],
   "source": [
    "#open csv file for writing\n",
    "file_name = \"eBayProducts.csv\"\n",
    "f = open(file_name,\"w\")\n",
    "#write headers to csv\n",
    "headers = \"ProductName, ProductState, ProducrPrice\\n\"\n",
    "f.write(headers)"
   ]
  },
  {
   "cell_type": "code",
   "execution_count": 67,
   "metadata": {},
   "outputs": [],
   "source": [
    "for container in containers:\n",
    "    productName = container.h3.a.string\n",
    "    productStateContainer = container.findAll(\"div\", {\"class\":\"lvsubtitle\"})\n",
    "    productState = productStateContainer[0].text.strip()\n",
    "    productPrice = container.span.text.strip()\n",
    "    f.write(productName.replace(\",\", \"|\").replace(\"\\n\",\"\") + \",\" + productState.replace(\",\", \"|\") + \",\" + productPrice.replace(\",\", \"|\") + \"\\n\")\n",
    "    \n",
    "f.close() "
   ]
  },
  {
   "cell_type": "code",
   "execution_count": 71,
   "metadata": {},
   "outputs": [],
   "source": [
    "#create arrays to hold data from csv columns\n",
    "price = []\n",
    "productName = []\n",
    "\n",
    "#read data from csv columns to arrays\n",
    "with open('eBayProducts.csv') as csvfile:\n",
    "    readCSV = csv.reader(csvfile, delimiter = ',')\n",
    "    for row in readCSV:\n",
    "        productName.append(row[0])\n",
    "        price.append(row[2])"
   ]
  },
  {
   "cell_type": "code",
   "execution_count": 72,
   "metadata": {
    "collapsed": true
   },
   "outputs": [],
   "source": [
    "#seperate entries with multip authors\n",
    "new_product = []\n",
    "for product in productName:\n",
    "\tnew_product.extend(product.split(' '))\n",
    "#clean white space\n",
    "#new_authors = [x.strip() for x in new_authors[2:]]"
   ]
  },
  {
   "cell_type": "code",
   "execution_count": 82,
   "metadata": {},
   "outputs": [
    {
     "data": {
      "image/png": "[encoded data removed]",
      "text/plain": [
       "<matplotlib.figure.Figure at 0x1a9e0f0bb38>"
      ]
     },
     "metadata": {},
     "output_type": "display_data"
    }
   ],
   "source": [
    "#create dictionary \n",
    "productCount = Counter(new_product)\n",
    "\n",
    "#remove objects from dictionary count less than 2\n",
    "for k in list(productCount):\n",
    "\tif productCount[k] < 3:\n",
    "\t\tdel productCount[k]\n",
    "\t\t\n",
    "#use pandas library to create bar graph\n",
    "df = pandas.DataFrame.from_dict(productCount, orient='index')\n",
    "df.plot(kind = 'bar', color = 'byrgkc')\n",
    "plt.title(\"Product Name Word frequency\")\n",
    "plt.xlabel(\"Product Words\")\n",
    "plt.ylabel(\"Number of times product name repeats\")\n",
    "plt.show()"
   ]
  },
  {
   "cell_type": "code",
   "execution_count": 83,
   "metadata": {},
   "outputs": [
    {
     "data": {
      "image/png": "[encoded data removed]",
      "text/plain": [
       "<matplotlib.figure.Figure at 0x1a9df334080>"
      ]
     },
     "metadata": {},
     "output_type": "display_data"
    }
   ],
   "source": [
    "#Create Word cloud\n",
    "wc = WordCloud(scale = 4)\n",
    "wc.generate(str(new_product))\n",
    "plt.imshow(wc)\n",
    "plt.axis('off')\n",
    "plt.show()"
   ]
  },
  {
   "cell_type": "code",
   "execution_count": null,
   "metadata": {
    "collapsed": true
   },
   "outputs": [],
   "source": []
  }
 ],
 "metadata": {
  "kernelspec": {
   "display_name": "Python 3",
   "language": "python",
   "name": "python3"
  },
  "language_info": {
   "codemirror_mode": {
    "name": "ipython",
    "version": 3
   },
   "file_extension": ".py",
   "mimetype": "text/x-python",
   "name": "python",
   "nbconvert_exporter": "python",
   "pygments_lexer": "ipython3",
   "version": "3.6.3"
  }
 },
 "nbformat": 4,
 "nbformat_minor": 2
}
